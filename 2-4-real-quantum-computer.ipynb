{
 "cells": [
  {
   "cell_type": "code",
   "execution_count": null,
   "metadata": {},
   "outputs": [],
   "source": [
    "%pip install qiskit -U\n",
    "%pip install qiskit-ibm-runtime -U"
   ]
  },
  {
   "cell_type": "code",
   "execution_count": null,
   "metadata": {},
   "outputs": [],
   "source": [
    "import qiskit_ibm_runtime\n",
    "print(qiskit_ibm_runtime.version.get_version_info())"
   ]
  },
  {
   "attachments": {},
   "cell_type": "markdown",
   "metadata": {},
   "source": [
    "# Real quantum computer\n",
    "\n",
    "## [Background on the various packages](https://github.com/Qiskit/qiskit-ibm-provider/blob/main/docs/tutorials/Migration_Guide_from_qiskit-ibmq-provider.ipynb)\n",
    "- [Qiskit IBM Runtime](https://github.com/Qiskit/qiskit-ibm-runtime) - [pypi](https://pypi.org/project/qiskit-ibm-runtime) - Qiskit Runtime is a new architecture offered by IBM Quantum that streamlines quantum computations. It is designed to use classical compute resources to execute quantum circuits with more efficiency on quantum processors.\n",
    "- [Qiskit IBM Provider](https://github.com/Qiskit/qiskit-ibm-provider) - [pypi](https://pypi.org/project/qiskit-ibm-provider) - This project contains a provider that allows accessing the IBM Quantum systems and simulators.\n",
    "- [Qiskit IBM Experiment](https://github.com/Qiskit/qiskit-ibm-experiment) - [pypi](https://pypi.org/project/qiskit-ibm-experiment) - This project contains a service that allows accessing the IBM Quantum experiment database.\n"
   ]
  },
  {
   "attachments": {},
   "cell_type": "markdown",
   "metadata": {},
   "source": [
    "## Setup\n",
    "\n",
    "Overview:\n",
    "- [Account Setup steps](https://github.com/Qiskit/qiskit-ibm-runtime#account-setup) (IBM Cloud or IBM Quantum)\n",
    "- [IBM Cloud - Getting started instructions](https://cloud.ibm.com/docs/quantum-computing?topic=quantum-computing-get-started)\n",
    "\n",
    "Steps to access __IBM Quantum__ instance:\n",
    "- [Get your API key](https://quantum-computing.ibm.com/account) and save it in .env as QISKIT_IBM_TOKEN\n",
    "- use channel=\"ibm_quantum\" when creating the service\n",
    "\n",
    "OR - Steps to access __IBM Cloud__ instance:\n",
    "\n",
    "- [Create a quantum Instance on IBM Cloud](https://cloud.ibm.com/quantum/instances)\n",
    "- [Create an IBM Cloud API Key](https://cloud.ibm.com/iam/apikeys)\n",
    "- use channel=\"ibm_cloud\" when creating the service"
   ]
  },
  {
   "cell_type": "code",
   "execution_count": null,
   "metadata": {},
   "outputs": [],
   "source": [
    "ibmcloudinstance=\"crn:v1:bluemix:public:quantum-computing:us-east:a/0d6f8e0db0a1523f2ca61c2cb55c893b:150e4c08-58e0-43f3-9484-203044277dbf::\""
   ]
  },
  {
   "cell_type": "code",
   "execution_count": null,
   "metadata": {},
   "outputs": [],
   "source": [
    "# Load API Key\n",
    "import os\n",
    "from dotenv import load_dotenv\n",
    "load_dotenv() # take environment variables from .env.\n",
    "qiskit_api_key = os.environ.get(\"QISKIT_IBM_TOKEN\")\n",
    "assert qiskit_api_key is not None"
   ]
  },
  {
   "cell_type": "code",
   "execution_count": null,
   "metadata": {},
   "outputs": [],
   "source": [
    "# Connect to ibm quantum service\n",
    "from qiskit_ibm_runtime import QiskitRuntimeService\n",
    "\n",
    "service = QiskitRuntimeService(channel=\"ibm_quantum\", token=qiskit_api_key)\n",
    "\n",
    "if False:\n",
    "    # Optional - save credentials to disk\n",
    "    try:\n",
    "        QiskitRuntimeService.save_account(channel=\"ibm_quantum\", token=quiskit_api_key)\n",
    "    except:\n",
    "        print(\"Account info already saved\")\n",
    "    # Then you can login without args\n",
    "    service = QiskitRuntimeService()"
   ]
  },
  {
   "cell_type": "code",
   "execution_count": null,
   "metadata": {},
   "outputs": [],
   "source": [
    "# display current supported backends\n",
    "for backend in service.backends():\n",
    "    print(f\"{backend.name},    qubits:{backend.num_qubits},    status:{backend.status().status_msg},   pending_jobs:{backend.status().pending_jobs}\")"
   ]
  },
  {
   "attachments": {},
   "cell_type": "markdown",
   "metadata": {},
   "source": [
    "## Test backend on simulator"
   ]
  },
  {
   "cell_type": "code",
   "execution_count": null,
   "metadata": {},
   "outputs": [],
   "source": [
    "# list available programs\n",
    "service.pprint_programs()"
   ]
  },
  {
   "cell_type": "code",
   "execution_count": null,
   "metadata": {},
   "outputs": [],
   "source": [
    "# run hello-world program on simulator\n",
    "program_inputs = {'iterations': 1}\n",
    "backend = service.least_busy(simulator=True, operational=True)\n",
    "print(f\"least_busy simulator backend: {backend.name}\")\n",
    "options = {\"backend\": backend.name}\n",
    "job = service.run(program_id=\"hello-world\",\n",
    "                  options=options,\n",
    "                  inputs=program_inputs\n",
    "                 )\n",
    "print(f\"job id: {job.job_id()}\")\n",
    "result = job.result()\n",
    "print(result)"
   ]
  },
  {
   "attachments": {},
   "cell_type": "markdown",
   "metadata": {},
   "source": [
    "[Check jobs on web console](https://quantum-computing.ibm.com/jobs)"
   ]
  },
  {
   "attachments": {},
   "cell_type": "markdown",
   "metadata": {},
   "source": [
    "## Run on a real quantum device"
   ]
  },
  {
   "cell_type": "code",
   "execution_count": null,
   "metadata": {},
   "outputs": [],
   "source": [
    "# Ask IBM Quantum for its least busy device that isn't a simulator.\n",
    "backend = service.least_busy(simulator=False, operational=True)\n",
    "print(f'least_busy real backend: {backend.name}')\n",
    "print(f\"backend info: {backend.name},    qubits:{backend.num_qubits},    status:{backend.status().status_msg},   pending_jobs:{backend.status().pending_jobs}\")\n",
    "print(f\"backend coupling_map:{backend.coupling_map}\")"
   ]
  },
  {
   "cell_type": "code",
   "execution_count": null,
   "metadata": {},
   "outputs": [],
   "source": [
    "# prepare circuit\n",
    "from qiskit import QuantumCircuit\n",
    "bell = QuantumCircuit(2)\n",
    "bell.h(0)\n",
    "bell.cx(0, 1)\n",
    "bell.measure_all()\n",
    "print(bell.draw(output='text'))"
   ]
  },
  {
   "cell_type": "code",
   "execution_count": null,
   "metadata": {},
   "outputs": [],
   "source": [
    "# Run job\n",
    "from qiskit_ibm_runtime import Session, Options, Sampler\n",
    "from qiskit.tools.monitor import job_monitor\n",
    "\n",
    "options = Options(optimization_level=1)\n",
    "options.execution.shots = 1024  # Options can be set using auto-complete.\n",
    "print(f\"backend: {backend.name}\")\n",
    "\n",
    "session = Session(service=service, backend=backend.name)\n",
    "sampler = Sampler(session=session, options=options)\n",
    "job = sampler.run(circuits=bell)\n",
    "print(f\"job_id: {job.job_id()}\")\n",
    "\n",
    "# monitor job submission\n",
    "job_monitor(job,interval=10)\n",
    "\n",
    "# wait for results\n",
    "result = job.result()\n",
    "print(f\"Job result is {result}\")"
   ]
  },
  {
   "attachments": {},
   "cell_type": "markdown",
   "metadata": {},
   "source": [
    "[Check jobs on web console](https://quantum-computing.ibm.com/jobs)"
   ]
  },
  {
   "cell_type": "code",
   "execution_count": null,
   "metadata": {},
   "outputs": [],
   "source": [
    "# count measures\n",
    "counts = result.quasi_dists[0].binary_probabilities()\n",
    "print(f\"Counts:{counts}\")"
   ]
  },
  {
   "cell_type": "code",
   "execution_count": null,
   "metadata": {},
   "outputs": [],
   "source": [
    "# Plot the results\n",
    "from qiskit.tools.visualization import plot_histogram\n",
    "plot_histogram(result.quasi_dists[0].binary_probabilities(), title=\"bell\")"
   ]
  },
  {
   "attachments": {},
   "cell_type": "markdown",
   "metadata": {},
   "source": [
    "## Short version"
   ]
  },
  {
   "cell_type": "code",
   "execution_count": null,
   "metadata": {},
   "outputs": [],
   "source": [
    "# 1. Create a simple quantum program called a 'quantum circuit'.\n",
    "from qiskit import QuantumCircuit\n",
    "qc = QuantumCircuit(3)\n",
    "qc.h(0)\n",
    "qc.cx(0, [1, 2])\n",
    "qc.measure_all()\n",
    "print(qc.draw())\n",
    "\n",
    "# 2. Ask IBM Quantum for its least busy device that isn't a simulator.\n",
    "from qiskit_ibm_runtime import QiskitRuntimeService, Session, Sampler\n",
    "service = QiskitRuntimeService(channel=\"ibm_quantum\", token=qiskit_api_key)\n",
    "backend = service.least_busy(simulator=False, operational=True)\n",
    "print(f'Running on {backend.name}')\n",
    "\n",
    "# 3. Run your circuit on that device\n",
    "with Session(backend=backend):\n",
    "    sampler = Sampler()\n",
    "    result = sampler.run(qc).result()\n",
    "\n",
    "# 4. Plot the results\n",
    "from qiskit.visualization import plot_histogram\n",
    "distribution = result.quasi_dists[0].binary_probabilities()\n",
    "plot_histogram(distribution)"
   ]
  }
 ],
 "metadata": {
  "kernelspec": {
   "display_name": "Python 3",
   "language": "python",
   "name": "python3"
  },
  "language_info": {
   "codemirror_mode": {
    "name": "ipython",
    "version": 3
   },
   "file_extension": ".py",
   "mimetype": "text/x-python",
   "name": "python",
   "nbconvert_exporter": "python",
   "pygments_lexer": "ipython3",
   "version": "3.11.3"
  },
  "orig_nbformat": 4
 },
 "nbformat": 4,
 "nbformat_minor": 2
}
