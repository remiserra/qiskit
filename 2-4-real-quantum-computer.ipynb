{
 "cells": [
  {
   "cell_type": "code",
   "execution_count": 6,
   "metadata": {},
   "outputs": [],
   "source": [
    "%matplotlib ipympl\n",
    "import matplotlib.pyplot as plt"
   ]
  },
  {
   "attachments": {},
   "cell_type": "markdown",
   "metadata": {},
   "source": [
    "# Real quantum computer\n",
    "- https://github.com/Qiskit/qiskit-ibmq-provider\n"
   ]
  },
  {
   "cell_type": "code",
   "execution_count": 1,
   "metadata": {},
   "outputs": [
    {
     "name": "stdout",
     "output_type": "stream",
     "text": [
      "{'qiskit-terra': '0.23.3', 'qiskit-aer': '0.12.0', 'qiskit-ignis': None, 'qiskit-ibmq-provider': '0.20.2', 'qiskit': '0.42.1', 'qiskit-nature': None, 'qiskit-finance': None, 'qiskit-optimization': None, 'qiskit-machine-learning': None}\n"
     ]
    }
   ],
   "source": [
    "import qiskit as q\n",
    "print(q.__qiskit_version__)\n"
   ]
  },
  {
   "attachments": {},
   "cell_type": "markdown",
   "metadata": {},
   "source": [
    "First get your key from https://quantum-computing.ibm.com/account, \n",
    "and save it in .env as QISKIT_IBM_TOKEN"
   ]
  },
  {
   "cell_type": "code",
   "execution_count": 22,
   "metadata": {},
   "outputs": [
    {
     "name": "stderr",
     "output_type": "stream",
     "text": [
      "configrc.store_credentials:WARNING:2023-05-05 16:56:49,572: Credentials already present. Set overwrite=True to overwrite.\n"
     ]
    },
    {
     "name": "stdout",
     "output_type": "stream",
     "text": [
      "stored_account:{'token': '48d331fe949d7ae5827576b0d1ab4aaafaab33d9bb49cc959732842daab22600543760613aa9f022a0d0dc380d06a751fc8952039ccbca1f9f2c8f86c1deef09', 'url': 'https://auth.quantum-computing.ibm.com/api'}\n"
     ]
    }
   ],
   "source": [
    "# Load PI Key and save account credentials\n",
    "import os\n",
    "from dotenv import load_dotenv\n",
    "load_dotenv() # take environment variables from .env.\n",
    "api_key = os.environ.get(\"QISKIT_IBM_TOKEN\")\n",
    "assert api_key is not None\n",
    "q.IBMQ.ibmq.save_account(api_key)"
   ]
  },
  {
   "cell_type": "code",
   "execution_count": 51,
   "metadata": {},
   "outputs": [
    {
     "name": "stdout",
     "output_type": "stream",
     "text": [
      "==services==\n",
      "backend\n",
      "runtime\n",
      "==backends==\n",
      "ibmq_qasm_simulator, active, 0\n",
      "ibmq_lima, active, 42\n",
      "ibmq_belem, active, 17\n",
      "ibmq_quito, active, 22\n",
      "simulator_statevector, active, 0\n",
      "simulator_mps, active, 0\n",
      "simulator_extended_stabilizer, active, 0\n",
      "simulator_stabilizer, active, 0\n",
      "ibmq_jakarta, dedicated, 134\n",
      "ibmq_manila, active, 43\n",
      "ibm_lagos, active, 42\n",
      "ibm_nairobi, active, 132\n",
      "ibm_perth, active, 311\n",
      "==jobs==\n",
      "chahnqpmfb1ddb4f6oeg, ibmq_belem, JobStatus.CANCELLED\n",
      "chahnghmfb1ddb4f6j0g, ibmq_qasm_simulator, JobStatus.DONE\n",
      "chahnd8dickn60ippvg0, ibmq_qasm_simulator, JobStatus.DONE\n",
      "chahnbgo51arsocq8qp0, ibmq_qasm_simulator, JobStatus.DONE\n",
      "chahmuodickn60ippo4g, ibmq_qasm_simulator, JobStatus.DONE\n",
      "chagkago51arsocpn2ig, ibmq_qasm_simulator, JobStatus.DONE\n",
      "chagfip76h9ab2bq4jlg, ibmq_qasm_simulator, JobStatus.DONE\n"
     ]
    }
   ],
   "source": [
    "for p in q.IBMQ.ibmq.providers():\n",
    "    print(\"==services==\")\n",
    "    for s in p.services():\n",
    "        print(s)\n",
    "    print(\"==backends==\")\n",
    "    for b in p.backends():\n",
    "        print(f\"{b.name()}, {b.status().status_msg}, {b.status().pending_jobs}\")\n",
    "    print(\"==jobs==\")\n",
    "    for j in p.runtime.jobs():\n",
    "        print(f\"{j.job_id()}, {j.backend()}, {j.status()}\")\n",
    "\n"
   ]
  },
  {
   "cell_type": "code",
   "execution_count": 39,
   "metadata": {},
   "outputs": [
    {
     "name": "stderr",
     "output_type": "stream",
     "text": [
      "ibmqfactory.load_account:WARNING:2023-05-05 17:05:59,136: Credentials are already in use. The existing account in the session will be replaced.\n"
     ]
    }
   ],
   "source": [
    "provider = q.IBMQ.ibmq.load_account()\n"
   ]
  },
  {
   "cell_type": "code",
   "execution_count": 47,
   "metadata": {},
   "outputs": [],
   "source": [
    "# Select the backend\n",
    "# here we use a quantum computer simulator - with no access to underlying vectors\n",
    "# init quantum computer simulator\n",
    "#backend = provider.get_backend('ibmq_qasm_simulator')\n",
    "backend = provider.get_backend('ibmq_belem') # REAL quantum computer"
   ]
  },
  {
   "cell_type": "code",
   "execution_count": 41,
   "metadata": {},
   "outputs": [],
   "source": [
    "# init circuit\n",
    "circuit = q.QuantumCircuit(2,2) #qbits, classic measure bits\n",
    "\n",
    "# build circuit\n",
    "circuit.h(0) #Hadamard line 0\n",
    "circuit.x(0) #Pauly X (invert |0> and |1> )\n",
    "circuit.cx(0,1) #CNOT 0-1\n",
    "circuit.h(1) #Hadamard line 1\n",
    "#  add measure of qbit line 0 & 1 to classic lines 0 & 1 - to enable counts\n",
    "circuit.measure_active()"
   ]
  },
  {
   "cell_type": "code",
   "execution_count": 42,
   "metadata": {},
   "outputs": [
    {
     "name": "stdout",
     "output_type": "stream",
     "text": [
      "           ┌───┐┌───┐           ░ ┌─┐   \n",
      "      q_0: ┤ H ├┤ X ├──■────────░─┤M├───\n",
      "           └───┘└───┘┌─┴─┐┌───┐ ░ └╥┘┌─┐\n",
      "      q_1: ──────────┤ X ├┤ H ├─░──╫─┤M├\n",
      "                     └───┘└───┘ ░  ║ └╥┘\n",
      "      c: 2/════════════════════════╬══╬═\n",
      "                                   ║  ║ \n",
      "measure: 2/════════════════════════╩══╩═\n",
      "                                   0  1 \n"
     ]
    }
   ],
   "source": [
    "# display circuit in text format\n",
    "print(circuit.draw(output='text'))"
   ]
  },
  {
   "cell_type": "code",
   "execution_count": 48,
   "metadata": {},
   "outputs": [
    {
     "name": "stdout",
     "output_type": "stream",
     "text": [
      "Job Status: job has been cancelled\n"
     ]
    },
    {
     "ename": "IBMQJobInvalidStateError",
     "evalue": "'Unable to retrieve result for job chahnqpmfb1ddb4f6oeg. Job was cancelled.'",
     "output_type": "error",
     "traceback": [
      "\u001b[0;31m---------------------------------------------------------------------------\u001b[0m",
      "\u001b[0;31mIBMQJobInvalidStateError\u001b[0m                  Traceback (most recent call last)",
      "Cell \u001b[0;32mIn[48], line 9\u001b[0m\n\u001b[1;32m      6\u001b[0m job_monitor(job,interval\u001b[39m=\u001b[39m\u001b[39m10\u001b[39m)\n\u001b[1;32m      8\u001b[0m \u001b[39m# wait for results\u001b[39;00m\n\u001b[0;32m----> 9\u001b[0m result \u001b[39m=\u001b[39m job\u001b[39m.\u001b[39;49mresult()\n\u001b[1;32m     11\u001b[0m \u001b[39m# count measures\u001b[39;00m\n\u001b[1;32m     12\u001b[0m counts \u001b[39m=\u001b[39m result\u001b[39m.\u001b[39mget_counts(circuit)\n",
      "File \u001b[0;32m/opt/homebrew/lib/python3.11/site-packages/qiskit/providers/ibmq/job/ibmqjob.py:279\u001b[0m, in \u001b[0;36mIBMQJob.result\u001b[0;34m(self, timeout, wait, partial, refresh)\u001b[0m\n\u001b[1;32m    276\u001b[0m \u001b[39mif\u001b[39;00m \u001b[39mnot\u001b[39;00m \u001b[39mself\u001b[39m\u001b[39m.\u001b[39m_wait_for_completion(timeout\u001b[39m=\u001b[39mtimeout, wait\u001b[39m=\u001b[39mwait,\n\u001b[1;32m    277\u001b[0m                                  required_status\u001b[39m=\u001b[39m(JobStatus\u001b[39m.\u001b[39mDONE,)):\n\u001b[1;32m    278\u001b[0m     \u001b[39mif\u001b[39;00m \u001b[39mself\u001b[39m\u001b[39m.\u001b[39m_status \u001b[39mis\u001b[39;00m JobStatus\u001b[39m.\u001b[39mCANCELLED:\n\u001b[0;32m--> 279\u001b[0m         \u001b[39mraise\u001b[39;00m IBMQJobInvalidStateError(\u001b[39m'\u001b[39m\u001b[39mUnable to retrieve result for job \u001b[39m\u001b[39m{}\u001b[39;00m\u001b[39m. \u001b[39m\u001b[39m'\u001b[39m\n\u001b[1;32m    280\u001b[0m                                        \u001b[39m'\u001b[39m\u001b[39mJob was cancelled.\u001b[39m\u001b[39m'\u001b[39m\u001b[39m.\u001b[39mformat(\u001b[39mself\u001b[39m\u001b[39m.\u001b[39mjob_id()))\n\u001b[1;32m    281\u001b[0m     \u001b[39m# Job failed.\u001b[39;00m\n\u001b[1;32m    282\u001b[0m     \u001b[39mif\u001b[39;00m partial:\n",
      "\u001b[0;31mIBMQJobInvalidStateError\u001b[0m: 'Unable to retrieve result for job chahnqpmfb1ddb4f6oeg. Job was cancelled.'"
     ]
    }
   ],
   "source": [
    "# run circuit on simulator\n",
    "job = q.execute(circuit, backend, shots=1)\n",
    "\n",
    "# monitor job submission\n",
    "from qiskit.tools.monitor import job_monitor\n",
    "job_monitor(job,interval=10)\n",
    "\n",
    "# wait for results\n",
    "result = job.result()\n",
    "\n",
    "# count measures\n",
    "counts = result.get_counts(circuit)\n",
    "print(f\"Counts:{counts}\")"
   ]
  },
  {
   "cell_type": "code",
   "execution_count": 8,
   "metadata": {},
   "outputs": [
    {
     "data": {
      "application/vnd.jupyter.widget-view+json": {
       "model_id": "1a2352e2c41749e08b25527aeb398615",
       "version_major": 2,
       "version_minor": 0
      },
      "image/png": "[encoded data removed]",
      "text/html": [
       "\n",
       "            <div style=\"display: inline-block;\">\n",
       "                <div class=\"jupyter-widgets widget-label\" style=\"text-align: center;\">\n",
       "                    Figure\n",
       "                </div>\n",
       "                <img src='data:image/png;base64,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' width=700.0/>\n",
       "            </div>\n",
       "        "
      ],
      "text/plain": [
       "Canvas(toolbar=Toolbar(toolitems=[('Home', 'Reset original view', 'home', 'home'), ('Back', 'Back to previous …"
      ]
     },
     "metadata": {},
     "output_type": "display_data"
    }
   ],
   "source": [
    "%matplotlib ipympl\n",
    "import matplotlib.pyplot as plt\n",
    "# display results\n",
    "q.visualization.plot_histogram(counts)\n",
    "plt.show()"
   ]
  }
 ],
 "metadata": {
  "kernelspec": {
   "display_name": "Python 3",
   "language": "python",
   "name": "python3"
  },
  "language_info": {
   "codemirror_mode": {
    "name": "ipython",
    "version": 3
   },
   "file_extension": ".py",
   "mimetype": "text/x-python",
   "name": "python",
   "nbconvert_exporter": "python",
   "pygments_lexer": "ipython3",
   "version": "3.11.3"
  },
  "orig_nbformat": 4
 },
 "nbformat": 4,
 "nbformat_minor": 2
}
